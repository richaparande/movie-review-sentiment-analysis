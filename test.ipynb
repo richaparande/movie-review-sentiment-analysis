{
 "cells": [
  {
   "cell_type": "markdown",
   "metadata": {},
   "source": [
    "### Code to test the model "
   ]
  },
  {
   "cell_type": "code",
   "execution_count": 1,
   "metadata": {},
   "outputs": [],
   "source": [
    "def test_trained_model(model_path, test_text):\n",
    "    saved_model_dic = pickle.load(open(model_path,\"rb\"))\n",
    "    saved_clf = saved_model_dic['model']\n",
    "    saved_vectorizer = saved_model_dic['vectorizer']\n",
    "    new_test_vecs = saved_vectorizer.fit_transform(test_text)\n",
    "    return saved_clf.predict(new_test_vecs)"
   ]
  },
  {
   "cell_type": "code",
   "execution_count": 3,
   "metadata": {},
   "outputs": [
    {
     "name": "stdout",
     "output_type": "stream",
     "text": [
      "test data size: 8000\n",
      "accuracy: 0.865625\n",
      "precision: 0.8678469927841903\n",
      "rec: 0.8658594209391538\n",
      "f1: 0.8654706254406717\n"
     ]
    }
   ],
   "source": [
    "# load sample test data\n",
    "import pandas as pd\n",
    "import pickle\n",
    "\n",
    "test_data = pd.read_csv('coursework1_train.csv')\n",
    "test_text = test_data['text'].tolist()[-8000:]\n",
    "test_labels = test_data['sentiment'].tolist()[-8000:]\n",
    "\n",
    "print('test data size:', len(test_labels))\n",
    "\n",
    "# test model\n",
    "from sklearn.metrics import precision_recall_fscore_support,accuracy_score\n",
    "new_test_pred = test_trained_model(\"trained_model.pickle\", test_text)\n",
    "acc = accuracy_score(test_labels, new_test_pred)\n",
    "pre, rec, f1, _ = precision_recall_fscore_support(test_labels, new_test_pred, average='macro')\n",
    "print('accuracy:', acc)\n",
    "print('precision:', pre)\n",
    "print('rec:', rec)\n",
    "print('f1:', f1)"
   ]
  },
  {
   "cell_type": "code",
   "execution_count": null,
   "metadata": {},
   "outputs": [],
   "source": []
  }
 ],
 "metadata": {
  "kernelspec": {
   "display_name": "Python 3",
   "language": "python",
   "name": "python3"
  },
  "language_info": {
   "codemirror_mode": {
    "name": "ipython",
    "version": 3
   },
   "file_extension": ".py",
   "mimetype": "text/x-python",
   "name": "python",
   "nbconvert_exporter": "python",
   "pygments_lexer": "ipython3",
   "version": "3.7.1"
  }
 },
 "nbformat": 4,
 "nbformat_minor": 2
}
